{
 "cells": [
  {
   "cell_type": "code",
   "execution_count": 1,
   "metadata": {
    "collapsed": true
   },
   "outputs": [],
   "source": [
    "from lesson_4.exercise.linear_model import LinearRegression\n",
    "from pprint import pprint\n",
    "import numpy as np\n",
    "\n",
    "import matplotlib.pyplot as plt\n",
    "%matplotlib inline"
   ]
  },
  {
   "cell_type": "markdown",
   "metadata": {},
   "source": [
    "### Необходимо загрузить данные из файла train.csv с помощью numpy\n",
    "\n",
    "см. [np.genfromtxt](https://docs.scipy.org/doc/numpy-1.13.0/reference/generated/numpy.genfromtxt.html)\n",
    "\n",
    "Файл содержит данные о 28 домах, для которых известны параметры и цены.\n",
    "\n",
    "Данные содержат 12 столбцов:\n",
    " -  A1,  местные цены продажи, в сотнях долларов;\n",
    " -  A2,  количество ванных комнат;\n",
    " -  A3,  площадь участка в тысячах квадратных футов;\n",
    " -  A4,  размер жилой площади в тысячах квадратных футов;\n",
    " -  A5,  количество гаражей;\n",
    " -  A6,  число всех комнат;\n",
    " -  A7,  количество спален;\n",
    " -  A8,  возраст постройки в годах;\n",
    " -  A9,  материалы построки: 1 = кирпич, 2 = кирпич / дерево, 3 = алюминий / дерево, 4 = дерево.\n",
    " -  A10, вид жилья: 1 = двухэтажный, 2 = уровень разделения, 3 = ранчо\n",
    " -  A11, количество каминов.\n",
    " -  B,   отпускная цена - **целевая переменная**\n",
    " \n",
    ">Модель должна иметь форму:\n",
    "    B = A1 * X1 + A2 * X2 + A3 * X3 + A4 * X4 + A5 * X5 + A6 * X6 + A7 * X7 + A8 * X8 + A9 * X9 + A10 * X10 + A11 * X11\n",
    " "
   ]
  },
  {
   "cell_type": "code",
   "execution_count": 3,
   "metadata": {},
   "outputs": [
    {
     "data": {
      "text/plain": [
       "array([[  4.9176,   1.    ,   3.472 ,   0.998 ,   1.    ,   7.    ,\n          4.    ,  42.    ,   3.    ,   1.    ,   0.    ,  25.9   ],\n       [  5.0208,   1.    ,   3.531 ,   1.5   ,   2.    ,   7.    ,\n          4.    ,  62.    ,   1.    ,   1.    ,   0.    ,  29.5   ],\n       [  4.5429,   1.    ,   2.275 ,   1.175 ,   1.    ,   6.    ,\n          3.    ,  40.    ,   2.    ,   1.    ,   0.    ,  27.9   ],\n       [  4.5573,   1.    ,   4.05  ,   1.232 ,   1.    ,   6.    ,\n          3.    ,  54.    ,   4.    ,   1.    ,   0.    ,  25.9   ],\n       [  5.0597,   1.    ,   4.455 ,   1.121 ,   1.    ,   6.    ,\n          3.    ,  42.    ,   3.    ,   1.    ,   0.    ,  29.9   ]])"
      ]
     },
     "execution_count": 3,
     "metadata": {},
     "output_type": "execute_result"
    }
   ],
   "source": [
    "### ТУТ ДОЛЖЕН БЫТЬ ВАШ КОД ###\n",
    "data = np.genfromtxt('lesson_4/exercise/train.csv', delimiter=',', skip_header=True)\n",
    "data[:5]"
   ]
  },
  {
   "cell_type": "markdown",
   "metadata": {},
   "source": [
    "### Нужно разделить данные на X и y (y - последний столбец) "
   ]
  },
  {
   "cell_type": "code",
   "execution_count": 4,
   "metadata": {},
   "outputs": [
    {
     "name": "stdout",
     "output_type": "stream",
     "text": [
      "array([  4.9176,   1.    ,   3.472 ,   0.998 ,   1.    ,   7.    ,\n         4.    ,  42.    ,   3.    ,   1.    ,   0.    ])\narray([ 25.9])\n"
     ]
    }
   ],
   "source": [
    "### ТУТ ДОЛЖЕН БЫТЬ ВАШ КОД ###\n",
    "X = data[:,0:11]\n",
    "y = data[:,11:]\n",
    "pprint(X[0])\n",
    "pprint(y[0])"
   ]
  },
  {
   "cell_type": "markdown",
   "metadata": {},
   "source": [
    "### Cоздаем экземпляр линейной регрессии"
   ]
  },
  {
   "cell_type": "code",
   "execution_count": 5,
   "metadata": {
    "collapsed": true
   },
   "outputs": [],
   "source": [
    "clf = LinearRegression()"
   ]
  },
  {
   "cell_type": "markdown",
   "metadata": {},
   "source": [
    "### Обучаем модель"
   ]
  },
  {
   "cell_type": "code",
   "execution_count": 6,
   "metadata": {
    "collapsed": false
   },
   "outputs": [
    {
     "name": "stdout",
     "output_type": "stream",
     "text": [
      "Начальное значение ошибки: 824.612142857143\nИтерация 00000: Ошибка=771.6579033217336\nИтерация 00001: Ошибка=733.6740709324779\nИтерация 00002: Ошибка=706.4284427139794\nИтерация 00003: Ошибка=686.8852789433163\nИтерация 00004: Ошибка=672.8670574839321\nИтерация 00005: Ошибка=662.8118517255213\nИтерация 00006: Ошибка=655.5992988965534\nИтерация 00007: Ошибка=650.4257679355247\nИтерация 00008: Ошибка=646.7148179793285\nИтерация 00009: Ошибка=644.052970648921\nИтерация 00010: Ошибка=642.1436398053278\nИтерация 00011: Ошибка=640.7740855755823\nИтерация 00012: Ошибка=639.7917106275695\nИтерация 00013: Ошибка=639.0870575970266\nИтерация 00014: Ошибка=638.5816132201543\nИтерация 00015: Ошибка=638.2190602940497\nИтерация 00016: Ошибка=637.959002748172\nИтерация 00017: Ошибка=637.772464666975\nИтерация 00018: Ошибка=637.6386617595488\nИтерация 00019: Ошибка=637.542685549646\nИтерация 00020: Ошибка=637.4738422558459\nИтерация 00021: Ошибка=637.4244612779343\nИтерация 00022: Ошибка=637.389040529668\nИтерация 00023: Ошибка=637.3636333898988\nИтерация 00024: Ошибка=637.3454089654344\nИтерация 00025: Ошибка=637.3323366696122\nИтерация 00026: Ошибка=637.3229599719615\nИтерация 00027: Ошибка=637.3162341098764\nИтерация 00028: Ошибка=637.3114096799468\nИтерация 00029: Ошибка=637.3079491385542\nИтерация 00030: Ошибка=637.3054669081347\nИтерация 00031: Ошибка=637.3036864156747\nИтерация 00032: Ошибка=637.3024092766248\nИтерация 00033: Ошибка=637.3014931906602\n"
     ]
    }
   ],
   "source": [
    "clf.fit(X, y)"
   ]
  },
  {
   "cell_type": "markdown",
   "metadata": {},
   "source": [
    "### Посмотрим ошибку после обучения"
   ]
  },
  {
   "cell_type": "code",
   "execution_count": 7,
   "metadata": {},
   "outputs": [
    {
     "name": "stdout",
     "output_type": "stream",
     "text": [
      "637.301493191\n"
     ]
    }
   ],
   "source": [
    "print(clf.cost(X, y))"
   ]
  },
  {
   "cell_type": "markdown",
   "metadata": {},
   "source": [
    "### Построим график зависимости стоимости аренды жилья от какой-нибудь переменной (А4)\n",
    "\n",
    "для того, чтобы получить предсказание модели по какому-то параметру, нужно воспользоваться функцией predict() "
   ]
  },
  {
   "cell_type": "code",
   "execution_count": null,
   "metadata": {},
   "outputs": [
    {
     "data": {
      "image/png": "[encoded data removed]",
      "text/plain": [
       "<matplotlib.figure.Figure at 0x16cc8b0>"
      ]
     },
     "metadata": {},
     "output_type": "display_data"
    }
   ],
   "source": [
    "### ТУТ ДОЛЖЕН БЫТЬ ВАШ КОД ###\n",
    "plt.figure(figsize=(10, 8))\n",
    "plt.scatter(X[:,0], y,c='b')\n",
    "plt.scatter(X[:,0], clf.predict(X[3]), c='r')\n",
    "plt.show()"
   ]
  }
 ],
 "metadata": {
  "kernelspec": {
   "display_name": "Python 3",
   "language": "python",
   "name": "python3"
  },
  "language_info": {
   "codemirror_mode": {
    "name": "ipython",
    "version": 3
   },
   "file_extension": ".py",
   "mimetype": "text/x-python",
   "name": "python",
   "nbconvert_exporter": "python",
   "pygments_lexer": "ipython3",
   "version": "3.5.3"
  }
 },
 "nbformat": 4,
 "nbformat_minor": 2
}
