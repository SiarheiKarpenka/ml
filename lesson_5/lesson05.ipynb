{
 "cells": [
  {
   "cell_type": "code",
   "execution_count": null,
   "metadata": {},
   "outputs": [
    {
     "name": "stdout",
     "output_type": "stream",
     "text": [
      "(50, 2) (50, 1)\n",
      "(50, 2)\n",
      "(5200, 1)\n"
     ]
    },
    {
     "data": {
      "image/png": "[encoded data removed]",
      "text/plain": [
       "<matplotlib.figure.Figure at 0x25d5c7b2080>"
      ]
     },
     "metadata": {},
     "output_type": "display_data"
    }
   ],
   "source": [
    "import sklearn.datasets\n",
    "from sklearn.linear_model import LinearRegression\n",
    "\n",
    "# a = sklearn.datasets.make_friedman1(n_samples=50, n_features=5, noise=0.5, random_state=None)\n",
    "# a = sklearn.datasets.make_friedman1(n_samples=50, n_features=1, n_informative=1, n_targets=1, bias=1.0, effective_rank=None, tail_strength=0.5, noise=0.5, shuffle=True, coef=False, random_state=None)\n",
    "\n",
    "import numpy as np\n",
    "import numpy.random\n",
    "import math\n",
    "\n",
    "\n",
    "def generator_1d(f, range=1, n_samples=100, noise=0.1):\n",
    "    x = np.random.rand(n_samples) * range\n",
    "    vec = np.vectorize(f)\n",
    "    noise = np.random.rand(n_samples)*noise\n",
    "    return (x, vec(x)+noise)\n",
    "\n",
    "\n",
    "ds = generator_1d((lambda x: math.log(x)), 50, 50, 0.5)\n",
    "#\n",
    "# print(a)\n",
    "#\n",
    "import matplotlib.pyplot as plt\n",
    "\n",
    "#\n",
    "# plt.scatter(ds[0], ds[1])\n",
    "# plt.show()\n",
    "\n",
    "reg = LinearRegression()\n",
    "\n",
    "X = ds[0].reshape(-1, 1)\n",
    "POW = 3\n",
    "for pow in range(2,POW):\n",
    "    X_2 = X.copy()[:,0]**0.5\n",
    "    X_2 = X_2.reshape(-1,1)\n",
    "    X = np.hstack((X, X_2))\n",
    "    print(X.shape,X_2.shape)\n",
    "\n",
    "\n",
    "print(X.shape)\n",
    "\n",
    "reg.fit(X, ds[1])\n",
    "\n",
    "pred = reg.predict(X)\n",
    "\n",
    "plt.scatter(X[:,0], ds[1])\n",
    "\n",
    "t1 = np.arange(0.0, 52, 0.01)\n",
    "t1 = t1.reshape(-1,1)\n",
    "print(t1.shape)\n",
    "for pow in range(2,POW):\n",
    "    X_2 = t1.copy()[:,0]**0.5\n",
    "    X_2 = X_2.reshape(-1,1)\n",
    "    t1 = np.hstack((t1, X_2))\n",
    "\n",
    "\n",
    "plt.plot(t1[:,0], reg.predict(t1))\n",
    "# plt.scatter(X[:,0], pred)\n",
    "\n",
    "from numpy import polyfit\n",
    "\n",
    "# cof = polyfit(ds[0],ds[1], 2)\n",
    "# plt.scatter(ds[0], np.poly1d(cof))\n",
    "\n",
    "\n",
    "\n",
    "plt.show()\n"
   ]
  },
  {
   "cell_type": "code",
   "execution_count": 6,
   "metadata": {},
   "outputs": [
    {
     "name": "stdout",
     "output_type": "stream",
     "text": [
      "(10, 2)\n",
      "(10,)\n"
     ]
    },
    {
     "data": {
      "image/png": "[encoded data removed]",
      "text/plain": [
       "<matplotlib.figure.Figure at 0x25d5f47bc18>"
      ]
     },
     "metadata": {},
     "output_type": "display_data"
    }
   ],
   "source": [
    "import math\n",
    "import numpy as np\n",
    "import matplotlib.pyplot as plt\n",
    "\n",
    "def line(x):\n",
    "    return 0.7*x\n",
    "\n",
    "def sigmoid(x):\n",
    "    return 1./(1+math.exp(-x))\n",
    "\n",
    "vec_sigmoid = np.vectorize(sigmoid)\n",
    "\n",
    "def plot_func(fun):\n",
    "    range = np.arange(-10,10,0.01)\n",
    "\n",
    "    vec_fun = np.vectorize(fun)\n",
    "\n",
    "    fig, ax = plt.subplots()\n",
    "    ax.plot(range, vec_fun(range))\n",
    "    ax.grid(True)\n",
    "    plt.show()\n",
    "\n",
    "# plot_func(line)\n",
    "# plot_func(sigmoid)\n",
    "\n",
    "from sklearn.metrics import mean_squared_error\n",
    "from sklearn.metrics import log_loss\n",
    "\n",
    "\n",
    "X = np.array([[2.7810836, 2.550537003],[1.465489372, 2.362125076],[3.396561688, 4.400293529],[1.38807019, 1.850220317],[3.06407232, 3.005305973],[7.627531214, 2.759262235],[5.332441248,2.088626775],[6.922596716,1.77106367],[8.675418651,-0.2420686549],[7.673756466,3.508563011]])\n",
    "y = np.array([0,0,0,0,0,1,1,1,1,1])\n",
    "\n",
    "print(X.shape)\n",
    "print(y.shape)\n",
    "\n",
    "\n",
    "x = X[:,0]\n",
    "W = np.arange(-5,15,0.01)\n",
    "\n",
    "\n",
    "ans = []\n",
    "for w in W:\n",
    "    y_pred = vec_sigmoid(w*x)\n",
    "#     print(y_pred)\n",
    "    # ans.append(mean_squared_error(y,y_pred))\n",
    "    ans.append(log_loss(y,y_pred))\n",
    "fig, ax = plt.subplots()\n",
    "ax.plot(W,ans)\n",
    "ax.grid(True)\n",
    "plt.show()\n",
    "\n",
    "#mean_squared_error()"
   ]
  },
  {
   "cell_type": "code",
   "execution_count": 1,
   "metadata": {},
   "outputs": [
    {
     "name": "stdout",
     "output_type": "stream",
     "text": [
      "array([  4.9176,   1.    ,   3.472 ,   0.998 ,   1.    ,   7.    ,\n",
      "         4.    ,  42.    ,   3.    ,   1.    ,   0.    ])\n",
      "25.899999999999999\n"
     ]
    }
   ],
   "source": [
    "from linear_model import LinearRegression\n",
    "from pprint import pprint\n",
    "import numpy as np\n",
    "\n",
    "import matplotlib.pyplot as plt\n",
    "%matplotlib inline\n",
    "\n",
    "data = np.genfromtxt('train.csv', delimiter=',', skip_header=True)\n",
    "data[:5]\n",
    "\n",
    "X = data[:,0:11]\n",
    "y = data[:,-1]\n",
    "pprint(X[0])\n",
    "pprint(y[0])"
   ]
  },
  {
   "cell_type": "code",
   "execution_count": 2,
   "metadata": {},
   "outputs": [],
   "source": [
    "clf = LinearRegression()"
   ]
  },
  {
   "cell_type": "code",
   "execution_count": 3,
   "metadata": {},
   "outputs": [],
   "source": [
    "clf.fit(X, y, verbose=False)"
   ]
  },
  {
   "cell_type": "code",
   "execution_count": 4,
   "metadata": {},
   "outputs": [
    {
     "name": "stdout",
     "output_type": "stream",
     "text": [
      "10.1290187794\n"
     ]
    },
    {
     "data": {
      "image/png": "[encoded data removed]",
      "text/plain": [
       "<matplotlib.figure.Figure at 0x2907d7d11d0>"
      ]
     },
     "metadata": {},
     "output_type": "display_data"
    }
   ],
   "source": [
    "print(clf.cost(X, y))\n",
    "clf.predict(X).shape\n",
    "plt.figure(figsize=(10, 8))\n",
    "plt.scatter(X[:,0], y,c='b')\n",
    "plt.scatter(X[:,0], clf.predict(X), c='r')\n",
    "plt.show()"
   ]
  },
  {
   "cell_type": "code",
   "execution_count": 7,
   "metadata": {},
   "outputs": [],
   "source": [
    "import numpy as np\n",
    "import matplotlib.pyplot as plt\n",
    "X = np.array([[2.7810836, 2.550537003],[1.465489372, 2.362125076],[3.396561688, 4.400293529],[1.38807019, 1.850220317],[3.06407232, 3.005305973],[7.627531214, 2.759262235],[5.332441248,2.088626775],[6.922596716,1.77106367],[8.675418651,-0.2420686549],[7.673756466,3.508563011]])\n",
    "y = np.array([0,0,0,0,0,1,1,1,1,1])"
   ]
  },
  {
   "cell_type": "code",
   "execution_count": 8,
   "metadata": {},
   "outputs": [
    {
     "data": {
      "image/png": "[encoded data removed]",
      "text/plain": [
       "<matplotlib.figure.Figure at 0x2247cadaa90>"
      ]
     },
     "metadata": {},
     "output_type": "display_data"
    }
   ],
   "source": [
    "plt.figure(figsize=(10, 8))\n",
    "plt.scatter(X[:,0], y,c='b')\n",
    "# plt.scatter(X[:,0], clf.predict(X), c='r')\n",
    "plt.show()"
   ]
  },
  {
   "cell_type": "code",
   "execution_count": 9,
   "metadata": {},
   "outputs": [],
   "source": [
    "from exercise.linear_model import LogisticRegression"
   ]
  },
  {
   "cell_type": "code",
   "execution_count": 10,
   "metadata": {},
   "outputs": [],
   "source": [
    "clf = LogisticRegression()\n",
    " "
   ]
  },
  {
   "cell_type": "code",
   "execution_count": 11,
   "metadata": {},
   "outputs": [],
   "source": [
    "clf.fit(X,y,verbose=False)"
   ]
  },
  {
   "cell_type": "code",
   "execution_count": 12,
   "metadata": {},
   "outputs": [
    {
     "data": {
      "image/png": "[encoded data removed]",
      "text/plain": [
       "<matplotlib.figure.Figure at 0x2247d4a7c88>"
      ]
     },
     "metadata": {},
     "output_type": "display_data"
    }
   ],
   "source": [
    "plt.figure(figsize=(10, 8))\n",
    "plt.scatter(X[:,0], y,c='b')\n",
    "plt.scatter(X[:,0], clf.predict(X), c='r')\n",
    "plt.show()\n",
    "\n"
   ]
  },
  {
   "cell_type": "code",
   "execution_count": null,
   "metadata": {},
   "outputs": [],
   "source": []
  },
  {
   "cell_type": "code",
   "execution_count": 16,
   "metadata": {},
   "outputs": [],
   "source": [
    "nclasses = 3\n",
    "pclass = [0,0,1,2,0,1,1]"
   ]
  },
  {
   "cell_type": "code",
   "execution_count": 17,
   "metadata": {},
   "outputs": [
    {
     "data": {
      "text/plain": [
       "array([[ 1.,  0.,  0.],\n",
       "       [ 1.,  0.,  0.],\n",
       "       [ 0.,  1.,  0.],\n",
       "       [ 0.,  0.,  1.],\n",
       "       [ 1.,  0.,  0.],\n",
       "       [ 0.,  1.,  0.],\n",
       "       [ 0.,  1.,  0.]])"
      ]
     },
     "execution_count": 17,
     "metadata": {},
     "output_type": "execute_result"
    }
   ],
   "source": [
    "np.eye(nclasses)[pclass]"
   ]
  }
 ],
 "metadata": {
  "kernelspec": {
   "display_name": "Python 3",
   "language": "python",
   "name": "python3"
  },
  "language_info": {
   "codemirror_mode": {
    "name": "ipython",
    "version": 3
   },
   "file_extension": ".py",
   "mimetype": "text/x-python",
   "name": "python",
   "nbconvert_exporter": "python",
   "pygments_lexer": "ipython3",
   "version": "3.5.3"
  }
 },
 "nbformat": 4,
 "nbformat_minor": 1
}
