{
 "cells": [
  {
   "cell_type": "markdown",
   "metadata": {},
   "source": [
    "<img src=\"numpy_logo.png\" alt=\"Drawing\" style=\"width: 200px;\"/>\n",
    "\n",
    "# Numpy. Работа с матрицами. Векторизация.\n",
    "\n",
    "Модуль numerical python (Numpy http://www.numpy.org) для работы с матрицами. Векторизация вместо циклов. Индексация и срезы в массивах. Чтение и запись файлов с помощью Numpy. \n",
    "\n",
    "Полезные клавиши в juputer \n",
    "\n",
    "- tab автодополнение\n",
    "- shift+tab - документация"
   ]
  },
  {
   "cell_type": "markdown",
   "metadata": {},
   "source": [
    "## Содержание\n",
    "\n",
    "- [Общая характеристика Numpy](#about)\n",
    "- [Установка SciPy](#installing)\n",
    "- [Создание массивов](#arrays)\n",
    "- [Операции над матрицами, broadcasting](#operations) \n",
    "- Векторизация\n",
    "- Индексация, срезы, выбор по условию \n",
    "- Считывание csv файлов в numpy массив, преобразование типов\n",
    "- Изменение размеров матриц, добавление строк, столбцов\n",
    "- Пример с линейной регрессией (нормальное уравление)\n",
    "- Pandas"
   ]
  },
  {
   "cell_type": "markdown",
   "metadata": {},
   "source": [
    "## Общая характеристика Numpy <a id=\"about\"></a>\n",
    "\n",
    "NumPy это фундаментальный пакет для научных вычислений с Python. Он содержит большое количество полезных особенностей:\n",
    "\n",
    "- Мощные N-мерные объект массивов\n",
    "- Сложные функции\n",
    "- Инструменты для интеграции с C/C++ и Fortran кодом \n",
    "- Полезная линейная алгебра, преобразования Фурье и случайние числа \n",
    "\n",
    "Numpy предоставляет функции, которые позволяют оперировать многомернами массивами. \n",
    "\n",
    "\n",
    "\n",
    "\n",
    "\n",
    "\n",
    "\n",
    "\n",
    "\n",
    "---\n",
    "\n"
   ]
  },
  {
   "cell_type": "markdown",
   "metadata": {},
   "source": [
    "## Установка <a id=\"installing\"></a>\n",
    "    \n",
    "лучше устанавливать полный набор SciPy:\n",
    "https://www.scipy.org/install.html \n",
    "\n",
    "```\n",
    "pip3 install numpy scipy matplotlib ipython jupyter pandas sympy nose\n",
    "\n",
    "```\n",
    "\n",
    "Для windows проще всего взять готовые пакеты:\n",
    "\n",
    "http://www.lfd.uci.edu/~gohlke/pythonlibs/\n"
   ]
  },
  {
   "cell_type": "markdown",
   "metadata": {},
   "source": [
    "## Создание массивов <a id=\"arrays\"></a>\n",
    "\n",
    "Для создания Numpy массива нужно вызывать метод ```np.array```. Для просмотра документации по методу в jupyter notebook можно нажать ```shift+tab```.\n",
    "\n",
    "У объектов array есть много методов, подробнее можно посмотреть нажетием клавиши ```tab```. \n",
    "\n",
    "Полезным свойством объекта ```array``` является ```shape```, позволяет узнать размерности массива. \n",
    "\n",
    "Свойство ```dtype``` позволяет узнать, какой тип данных используется для хранения элементов массив, его можно изменить. "
   ]
  },
  {
   "cell_type": "code",
   "execution_count": 2,
   "metadata": {},
   "outputs": [
    {
     "name": "stdout",
     "output_type": "stream",
     "text": [
      "(4,)\n",
      "[1 2 3 4]\n",
      "int64\n",
      "<class 'numpy.ndarray'>\n"
     ]
    }
   ],
   "source": [
    "import numpy as np\n",
    "\n",
    "a = np.array([1,2,3,4])\n",
    "\n",
    "print(a.shape)\n",
    "print(a)\n",
    "print(a.dtype)\n",
    "print(type(a))"
   ]
  },
  {
   "cell_type": "code",
   "execution_count": 3,
   "metadata": {},
   "outputs": [
    {
     "data": {
      "text/plain": [
       "array([ 1,  4,  9, 16])"
      ]
     },
     "execution_count": 3,
     "metadata": {},
     "output_type": "execute_result"
    }
   ],
   "source": [
    "a*a.T"
   ]
  },
  {
   "cell_type": "code",
   "execution_count": 4,
   "metadata": {},
   "outputs": [
    {
     "name": "stdout",
     "output_type": "stream",
     "text": [
      "[[1 2 3]\n",
      " [4 5 6]]\n",
      "(2, 3)\n",
      "6\n",
      "int64\n",
      "<class 'numpy.ndarray'>\n"
     ]
    }
   ],
   "source": [
    "a = np.array([[1,2,3],[4,5,6]])\n",
    "print(a)\n",
    "print(a.shape)\n",
    "print(a.size)\n",
    "print(a.dtype)\n",
    "print(type(a))"
   ]
  },
  {
   "cell_type": "markdown",
   "metadata": {},
   "source": [
    "Создание разных видов матриц: единичные, диогональные, нулевые."
   ]
  },
  {
   "cell_type": "code",
   "execution_count": 5,
   "metadata": {},
   "outputs": [
    {
     "name": "stdout",
     "output_type": "stream",
     "text": [
      "[[ 1.  0.  0.  0.  0.]\n",
      " [ 0.  1.  0.  0.  0.]\n",
      " [ 0.  0.  1.  0.  0.]\n",
      " [ 0.  0.  0.  1.  0.]\n",
      " [ 0.  0.  0.  0.  1.]]\n"
     ]
    }
   ],
   "source": [
    "E = np.eye(5)\n",
    "print(E)"
   ]
  },
  {
   "cell_type": "code",
   "execution_count": 6,
   "metadata": {},
   "outputs": [
    {
     "name": "stdout",
     "output_type": "stream",
     "text": [
      "[[1 0 0 0]\n",
      " [0 2 0 0]\n",
      " [0 0 3 0]\n",
      " [0 0 0 4]]\n"
     ]
    }
   ],
   "source": [
    "d = np.diag([1,2,3,4])\n",
    "print(d)"
   ]
  },
  {
   "cell_type": "code",
   "execution_count": 7,
   "metadata": {},
   "outputs": [
    {
     "name": "stdout",
     "output_type": "stream",
     "text": [
      "[[ 0.  0.  0.]\n",
      " [ 0.  0.  0.]]\n"
     ]
    }
   ],
   "source": [
    "Z=np.zeros((2,3))\n",
    "print(Z)\n"
   ]
  },
  {
   "cell_type": "code",
   "execution_count": 8,
   "metadata": {},
   "outputs": [
    {
     "data": {
      "text/plain": [
       "array([ 1.,  1.,  1.,  1.,  1.])"
      ]
     },
     "execution_count": 8,
     "metadata": {},
     "output_type": "execute_result"
    }
   ],
   "source": [
    "np.empty(5)"
   ]
  },
  {
   "cell_type": "markdown",
   "metadata": {},
   "source": [
    "## Операции над матрицами. Broadcasting.  <a id=\"operations\"></a>\n",
    "\n",
    "Особенность numpy в том, что он работает с матрицами как с единой сущностью и проводит всевозможные оптимизации. В Numpy существует набор операций, котрые выполняются над всей матрицей, broadcasting."
   ]
  },
  {
   "cell_type": "code",
   "execution_count": 9,
   "metadata": {},
   "outputs": [
    {
     "name": "stdout",
     "output_type": "stream",
     "text": [
      "[[1 2]\n",
      " [3 4]\n",
      " [5 6]]\n",
      "[[2 2]\n",
      " [2 2]\n",
      " [2 1]]\n"
     ]
    }
   ],
   "source": [
    "# Операции\n",
    "import numpy as np \n",
    "\n",
    "A = np.array([[1,2],[3,4],[5,6]])\n",
    "B = np.array([[2,2],[2,2],[2,1]])\n",
    "print(A)\n",
    "print(B)"
   ]
  },
  {
   "cell_type": "code",
   "execution_count": 10,
   "metadata": {},
   "outputs": [
    {
     "name": "stdout",
     "output_type": "stream",
     "text": [
      "[[3 4]\n",
      " [5 6]\n",
      " [7 7]]\n",
      "[[3 4]\n",
      " [5 6]\n",
      " [7 7]]\n",
      "[[-1  0]\n",
      " [ 1  2]\n",
      " [ 3  5]]\n",
      "[[ 1  0]\n",
      " [-1 -2]\n",
      " [-3 -5]]\n"
     ]
    }
   ],
   "source": [
    "# Сложение, вычитание\n",
    "print(A+B)\n",
    "print(B+A)\n",
    "print(A-B)\n",
    "print(B-A)\n",
    "\n",
    "C = np.array([[1,2],[2,3]])"
   ]
  },
  {
   "cell_type": "code",
   "execution_count": 11,
   "metadata": {},
   "outputs": [
    {
     "ename": "ValueError",
     "evalue": "operands could not be broadcast together with shapes (3,2) (2,2) ",
     "output_type": "error",
     "traceback": [
      "\u001b[0;31m---------------------------------------------------------------------------\u001b[0m",
      "\u001b[0;31mValueError\u001b[0m                                Traceback (most recent call last)",
      "\u001b[0;32m<ipython-input-11-4f8d12176c8f>\u001b[0m in \u001b[0;36m<module>\u001b[0;34m()\u001b[0m\n\u001b[0;32m----> 1\u001b[0;31m \u001b[0mA\u001b[0m\u001b[0;34m+\u001b[0m\u001b[0mC\u001b[0m\u001b[0;34m\u001b[0m\u001b[0m\n\u001b[0m",
      "\u001b[0;31mValueError\u001b[0m: operands could not be broadcast together with shapes (3,2) (2,2) "
     ]
    }
   ],
   "source": [
    "A+C"
   ]
  },
  {
   "cell_type": "code",
   "execution_count": 12,
   "metadata": {},
   "outputs": [
    {
     "name": "stdout",
     "output_type": "stream",
     "text": [
      "[[1 2]\n",
      " [3 4]\n",
      " [5 6]]\n",
      "[[1 3 5]\n",
      " [2 4 6]]\n"
     ]
    }
   ],
   "source": [
    "# Транспанирование\n",
    "print(A)\n",
    "print(A.T)"
   ]
  },
  {
   "cell_type": "code",
   "execution_count": 13,
   "metadata": {},
   "outputs": [
    {
     "name": "stdout",
     "output_type": "stream",
     "text": [
      "[[1 2]\n",
      " [3 4]\n",
      " [5 6]]\n",
      "*\n",
      "[[2 2]\n",
      " [2 2]\n",
      " [2 1]]\n",
      "=\n",
      "[[ 2  4]\n",
      " [ 6  8]\n",
      " [10  6]]\n"
     ]
    }
   ],
   "source": [
    "# Поэлементное умножение\n",
    "print(A)\n",
    "print(\"*\")\n",
    "print(B)\n",
    "print(\"=\")\n",
    "print(A*B)"
   ]
  },
  {
   "cell_type": "code",
   "execution_count": 14,
   "metadata": {},
   "outputs": [
    {
     "name": "stdout",
     "output_type": "stream",
     "text": [
      "[[ 6  6  4]\n",
      " [14 14 10]\n",
      " [22 22 16]]\n",
      "[[18 13]\n",
      " [24 18]]\n"
     ]
    }
   ],
   "source": [
    "# Матричное умножение (операция не коммутативная)\n",
    "\n",
    "# print(A.dot(B))\n",
    "print(A.dot(B.T))\n",
    "print(A.T.dot(B))"
   ]
  },
  {
   "cell_type": "code",
   "execution_count": 15,
   "metadata": {},
   "outputs": [
    {
     "name": "stdout",
     "output_type": "stream",
     "text": [
      "[[2 2]\n",
      " [2 2]\n",
      " [2 1]]\n",
      "[[4 4]\n",
      " [4 4]\n",
      " [4 2]]\n",
      "[[12 12]\n",
      " [12 12]\n",
      " [12 11]]\n"
     ]
    }
   ],
   "source": [
    "# Умножение матрицы на число, добавление числа \n",
    "print(B)\n",
    "print(B*2)\n",
    "print(B + 10)"
   ]
  },
  {
   "cell_type": "code",
   "execution_count": 16,
   "metadata": {},
   "outputs": [
    {
     "name": "stdout",
     "output_type": "stream",
     "text": [
      "[[ 0.90929743  0.90929743]\n",
      " [ 0.90929743  0.90929743]\n",
      " [ 0.90929743  0.84147098]]\n",
      "[[ 7.3890561   7.3890561 ]\n",
      " [ 7.3890561   7.3890561 ]\n",
      " [ 7.3890561   2.71828183]]\n"
     ]
    }
   ],
   "source": [
    "# Broadcast операции\n",
    "print(np.sin(B))\n",
    "print(np.exp(B))\n",
    "\n"
   ]
  },
  {
   "cell_type": "markdown",
   "metadata": {},
   "source": [
    "### Инвертирование матриц \n",
    "\n",
    "По мат. определению обратная матрица это: $A A^{-1}=E$. Инвертировать можно только квадратную матрицу, с рангом матрицы, равным её размеру, т.е. матрица должна быть не вырожденная. На практике же есть возможность получить псевдо обратную матрицу, в случае, если матрица вырождена."
   ]
  },
  {
   "cell_type": "code",
   "execution_count": 17,
   "metadata": {},
   "outputs": [],
   "source": [
    "import numpy as np \n",
    "# Операция получения обратной матрицы\n",
    "from numpy.linalg import inv\n",
    "# Операция получения псевдо обратной матрицы\n",
    "from numpy.linalg import pinv"
   ]
  },
  {
   "cell_type": "code",
   "execution_count": 18,
   "metadata": {},
   "outputs": [
    {
     "name": "stdout",
     "output_type": "stream",
     "text": [
      "[[1 2]\n",
      " [3 4]]\n",
      "[[-2.   1. ]\n",
      " [ 1.5 -0.5]]\n",
      "[[-2.   1. ]\n",
      " [ 1.5 -0.5]]\n"
     ]
    }
   ],
   "source": [
    "# Для не вырожденных матриц результат обоих функций будет одинаковый. \n",
    "\n",
    "A = np.array([[1,2],[3,4]])\n",
    "A_inv = inv(A)\n",
    "A_pinv = pinv(A)\n",
    "\n",
    "print(A)\n",
    "print(A_inv)\n",
    "print(A_pinv)"
   ]
  },
  {
   "cell_type": "code",
   "execution_count": 19,
   "metadata": {},
   "outputs": [
    {
     "name": "stdout",
     "output_type": "stream",
     "text": [
      "[[  1.00000000e+00   0.00000000e+00]\n",
      " [  8.88178420e-16   1.00000000e+00]]\n",
      "[[  1.00000000e+00  -6.66133815e-16]\n",
      " [  8.88178420e-16   1.00000000e+00]]\n"
     ]
    }
   ],
   "source": [
    "# Проверим свойства обратной матрицы\n",
    "\n",
    "print(A.dot(A_inv))\n",
    "print(A.dot(A_pinv))"
   ]
  },
  {
   "cell_type": "markdown",
   "metadata": {},
   "source": [
    "C учётом погрешности вычислений, свойств выполняется $AA^{-1}=E$\n",
    "\n",
    "Также из свойства $A E = A$ следует что $A A^{-1} A = A$, проверим:"
   ]
  },
  {
   "cell_type": "code",
   "execution_count": 20,
   "metadata": {},
   "outputs": [
    {
     "name": "stdout",
     "output_type": "stream",
     "text": [
      "[[ 1.  2.]\n",
      " [ 3.  4.]]\n",
      "[[ 1.  2.]\n",
      " [ 3.  4.]]\n"
     ]
    }
   ],
   "source": [
    "print(A.dot(A_inv).dot(A))\n",
    "print(A.dot(A_pinv).dot(A))"
   ]
  },
  {
   "cell_type": "markdown",
   "metadata": {},
   "source": [
    "Примеры с вырожденной матрицей. Дополнительная информация https://www.quora.com/What-is-the-difference-between-pinv-and-inv "
   ]
  },
  {
   "cell_type": "code",
   "execution_count": 21,
   "metadata": {},
   "outputs": [
    {
     "name": "stdout",
     "output_type": "stream",
     "text": [
      "[[16  2  3 13]\n",
      " [ 5 11 10  8]\n",
      " [ 9  7  6 12]\n",
      " [ 4 14 15  1]]\n",
      "3 ранг матрицы не равен 4, матрица вырождена\n"
     ]
    }
   ],
   "source": [
    "B = np.array([\n",
    "    [16, 2, 3, 13],\n",
    "    [5, 11, 10, 8],\n",
    "    [9, 7, 6, 12],\n",
    "    [4, 14, 15, 1]]\n",
    ")\n",
    "\n",
    "print(B)\n",
    "print(np.linalg.matrix_rank(B),\"ранг матрицы не равен 4, матрица вырождена\")"
   ]
  },
  {
   "cell_type": "code",
   "execution_count": 22,
   "metadata": {},
   "outputs": [
    {
     "name": "stdout",
     "output_type": "stream",
     "text": [
      "[[  9.38249922e+13   2.81474977e+14  -2.81474977e+14  -9.38249922e+13]\n",
      " [  2.81474977e+14   8.44424930e+14  -8.44424930e+14  -2.81474977e+14]\n",
      " [ -2.81474977e+14  -8.44424930e+14   8.44424930e+14   2.81474977e+14]\n",
      " [ -9.38249922e+13  -2.81474977e+14   2.81474977e+14   9.38249922e+13]]\n",
      "[[ 0.10110294 -0.07389706 -0.06139706  0.06360294]\n",
      " [-0.03639706  0.03860294  0.02610294  0.00110294]\n",
      " [ 0.01360294 -0.01139706 -0.02389706  0.05110294]\n",
      " [-0.04889706  0.07610294  0.08860294 -0.08639706]]\n"
     ]
    }
   ],
   "source": [
    "print(inv(B))\n",
    "print(pinv(B))"
   ]
  },
  {
   "cell_type": "code",
   "execution_count": 23,
   "metadata": {},
   "outputs": [
    {
     "name": "stdout",
     "output_type": "stream",
     "text": [
      "[[ 1.        0.        0.        0.      ]\n",
      " [-0.75      0.        2.        0.375   ]\n",
      " [ 0.25     -0.5       1.        0.25    ]\n",
      " [-0.34375  -1.875     2.        1.734375]]\n",
      "[[ 0.95 -0.15  0.15  0.05]\n",
      " [-0.15  0.55  0.45  0.15]\n",
      " [ 0.15  0.45  0.55 -0.15]\n",
      " [ 0.05  0.15 -0.15  0.95]]\n"
     ]
    }
   ],
   "source": [
    "print(B.dot(inv(B)))\n",
    "print(B.dot(pinv(B)))"
   ]
  },
  {
   "cell_type": "code",
   "execution_count": 24,
   "metadata": {},
   "outputs": [
    {
     "name": "stdout",
     "output_type": "stream",
     "text": [
      "[[ 16.         2.         3.        13.      ]\n",
      " [  7.5       17.75      15.375     14.625   ]\n",
      " [ 11.5        5.5        5.5       11.5     ]\n",
      " [ 10.0625    16.96875   18.234375   6.265625]]\n",
      "[[ 16.   2.   3.  13.]\n",
      " [  5.  11.  10.   8.]\n",
      " [  9.   7.   6.  12.]\n",
      " [  4.  14.  15.   1.]]\n"
     ]
    }
   ],
   "source": [
    "print(B.dot(inv(B)).dot(B))\n",
    "print(B.dot(pinv(B)).dot(B))"
   ]
  },
  {
   "cell_type": "code",
   "execution_count": 25,
   "metadata": {},
   "outputs": [
    {
     "data": {
      "text/plain": [
       "array([[ 0.95, -0.15,  0.15,  0.05],\n",
       "       [-0.15,  0.55,  0.45,  0.15],\n",
       "       [ 0.15,  0.45,  0.55, -0.15],\n",
       "       [ 0.05,  0.15, -0.15,  0.95]])"
      ]
     },
     "execution_count": 25,
     "metadata": {},
     "output_type": "execute_result"
    }
   ],
   "source": [
    "B.dot(pinv(B))"
   ]
  },
  {
   "cell_type": "markdown",
   "metadata": {},
   "source": [
    "## Векторизация  <a id=\"vectorization\"></a>\n",
    "\n",
    "Векторизация применяется для быстрых вычислений и для компактности кода. Больше информации в лекции https://www.coursera.org/learn/machine-learning/lecture/WnQWH/vectorization"
   ]
  },
  {
   "cell_type": "markdown",
   "metadata": {},
   "source": []
  },
  {
   "cell_type": "code",
   "execution_count": 26,
   "metadata": {},
   "outputs": [
    {
     "name": "stdout",
     "output_type": "stream",
     "text": [
      "[ 0.21432076  0.19768442  0.44610539 ...,  0.91085231  0.40683712\n",
      "  0.80569297]\n",
      "[ 0.94207197  0.7933866   0.8752608  ...,  0.01187641  0.37897191\n",
      "  0.54209191]\n"
     ]
    }
   ],
   "source": [
    "import time\n",
    "\n",
    "a = np.random.rand(1000000)\n",
    "b = np.random.rand(1000000)\n",
    "\n",
    "print(a)\n",
    "print(b)"
   ]
  },
  {
   "cell_type": "code",
   "execution_count": 27,
   "metadata": {},
   "outputs": [
    {
     "name": "stdout",
     "output_type": "stream",
     "text": [
      "Результат:  250122.857695 Время:  1.9245147705078125  ms\n"
     ]
    }
   ],
   "source": [
    "# С векторизацией \n",
    "start = time.time()\n",
    "c = a.dot(b)\n",
    "end = time.time()\n",
    "print( \"Результат: \",c, \"Время: \", str((end-start)*1000),\" ms\")"
   ]
  },
  {
   "cell_type": "code",
   "execution_count": 28,
   "metadata": {},
   "outputs": [
    {
     "name": "stdout",
     "output_type": "stream",
     "text": [
      "Результат:  250122.857695 Время:  292.9389476776123  ms\n"
     ]
    }
   ],
   "source": [
    "# Без векторизации\n",
    "start = time.time()\n",
    "c = 0\n",
    "for i in range(len(a)):\n",
    "    c+=a[i]*b[i]\n",
    "end = time.time()\n",
    "print( \"Результат: \",c, \"Время: \", str((end-start)*1000),\" ms\")"
   ]
  },
  {
   "cell_type": "markdown",
   "metadata": {},
   "source": [
    "Пример вычисления MSE \n",
    "\n",
    "$$\n",
    "MSE =\\frac{1}{m} \\sum_{i} ( y^{pred} - y)^2 = \\frac{1}{m} || y^{pred} - y ||^2_2 = \\frac{1}{m}(y^{pred} - y)(y^{pred} - y)^T  $$\n",
    "\n"
   ]
  },
  {
   "cell_type": "code",
   "execution_count": 29,
   "metadata": {},
   "outputs": [],
   "source": [
    "def mse(y_pred, y):\n",
    "    return (y_pred-y).T.dot(y_pred-y)/len(y_pred)"
   ]
  },
  {
   "cell_type": "code",
   "execution_count": 30,
   "metadata": {},
   "outputs": [
    {
     "data": {
      "text/plain": [
       "numpy.lib.function_base.vectorize"
      ]
     },
     "execution_count": 30,
     "metadata": {},
     "output_type": "execute_result"
    }
   ],
   "source": [
    "np.vectorize"
   ]
  },
  {
   "cell_type": "markdown",
   "metadata": {},
   "source": [
    "## Индексация, срезы, выбор по условию  <a id=\"indexation\"></a>\n",
    "\n",
    "https://docs.scipy.org/doc/numpy-1.13.0/reference/generated/numpy.where.html\n",
    "https://docs.scipy.org/doc/numpy-1.13.0/reference/generated/numpy.select.html\n"
   ]
  },
  {
   "cell_type": "code",
   "execution_count": 31,
   "metadata": {},
   "outputs": [
    {
     "name": "stdout",
     "output_type": "stream",
     "text": [
      "[ True  True  True  True  True False False False]\n",
      "[1 2 3 4 5]\n",
      "[ 2  4 -2]\n",
      "[2 4]\n",
      "[-3 -2 -5]\n"
     ]
    },
    {
     "data": {
      "text/plain": [
       "array(['NA', 'NA', '27', '64', '125', '9', '4', '25'],\n",
       "      dtype='<U21')"
      ]
     },
     "execution_count": 31,
     "metadata": {},
     "output_type": "execute_result"
    }
   ],
   "source": [
    "a = np.array([1,2,3,4,5,-3,-2,-5])\n",
    "print(a>0)\n",
    "print(a[[a>0]])\n",
    "\n",
    "print(a[[a%2==0]])\n",
    "print(a[np.logical_and(a%2==0, a>0) ])\n",
    "\n",
    "print(a[np.where(a<0)])\n",
    "\n",
    "np.select([a<0, a>2], [a**2, a**3], default=\"NA\")\n"
   ]
  },
  {
   "cell_type": "code",
   "execution_count": 32,
   "metadata": {},
   "outputs": [
    {
     "name": "stdout",
     "output_type": "stream",
     "text": [
      "[[1 2 3]\n",
      " [4 5 6]\n",
      " [7 8 9]]\n",
      "6\n",
      "[4 5 6]\n",
      "[2 5 8]\n",
      "[4 5 6]\n",
      "[[1 2]\n",
      " [4 5]]\n"
     ]
    }
   ],
   "source": [
    "A = np.array([[1,2,3],[4,5,6],[7,8,9]])\n",
    "\n",
    "print(A)\n",
    "\n",
    "print(A[1,2])\n",
    "\n",
    "print(A[1,:])\n",
    "\n",
    "print(A[:,1])\n",
    "\n",
    "print(A[1])\n",
    "#print(A[:,1])\n",
    "\n",
    "print(A[0:2,0:2])"
   ]
  },
  {
   "cell_type": "code",
   "execution_count": null,
   "metadata": {},
   "outputs": [],
   "source": []
  },
  {
   "cell_type": "markdown",
   "metadata": {},
   "source": [
    "## Изменение размеров матриц, добавление строк, столбцов <a id=\"rezise\"></a>"
   ]
  },
  {
   "cell_type": "code",
   "execution_count": 33,
   "metadata": {},
   "outputs": [
    {
     "data": {
      "text/plain": [
       "array([[1],\n",
       "       [2],\n",
       "       [3],\n",
       "       [4]])"
      ]
     },
     "execution_count": 33,
     "metadata": {},
     "output_type": "execute_result"
    }
   ],
   "source": [
    "s = np.array([[1,2],[3,4]])\n",
    "s.reshape((s.size,1))"
   ]
  },
  {
   "cell_type": "code",
   "execution_count": 34,
   "metadata": {},
   "outputs": [
    {
     "name": "stdout",
     "output_type": "stream",
     "text": [
      "[ 1  2  3  4  5 -3 -2 -5]\n",
      "[[ 1  2]\n",
      " [ 3  4]\n",
      " [ 5 -3]\n",
      " [-2 -5]]\n",
      "[[1 2 3 4]]\n",
      "[[ 1  2  1]\n",
      " [ 3  4  2]\n",
      " [ 5 -3  3]\n",
      " [-2 -5  4]]\n",
      "[1 5]\n",
      "[[ 1  2]\n",
      " [ 3  4]\n",
      " [ 5 -3]\n",
      " [-2 -5]\n",
      " [ 1  5]]\n"
     ]
    }
   ],
   "source": [
    "#print(a*5-1)\n",
    "print(a)\n",
    "b = a.reshape((4,2))\n",
    "print(b)\n",
    "c = np.array([[1,2,3,4]])\n",
    "print(c)\n",
    "\n",
    "print(np.hstack((b,c.T)))\n",
    "#b.hstack(c.T,inplace=True)\n",
    "#np.stack\n",
    "r = np.array([1,5])\n",
    "print(r)\n",
    "print(np.vstack((b,r)))"
   ]
  },
  {
   "cell_type": "markdown",
   "metadata": {},
   "source": [
    "# Машинное обучение\n",
    "\n",
    "A computer program is said to learn from experience E with respect to some class of tasks T and performance measure P, if its performance at tasks in T, as measured by P, improves with experience E.” (Mitchell 1997)\n",
    "\n",
    "Примеры:\n",
    "- T - регрессия, классификация, …\n",
    "- E - примеры для обучения (для обучения с учителем)\n",
    "- P - MSE, RMSE...\n",
    "\n",
    "Задача машинного обучения - обобщение (generalization)\n",
    "\n",
    "Задача минимизировать ошибку на тестовых данных (не на тех, которых производилось обучение)\n",
    "Цель алгоритма предсказывать значения на новых данных (из того же распределения)\n",
    "\n",
    "## Регрессия \n",
    "\n",
    "Задача регрессии построить зависимость между вектором x и некоторым значением y.\n",
    "\n",
    "Например:\n",
    "Предсказание цены дома \n",
    "https://www.kaggle.com/c/house-prices-advanced-regression-techniques \n",
    "\n",
    "Пример линейной регрессии:\n",
    "\n",
    "$$y^{pred} = w^Tx$$\n",
    "\n",
    "\n",
    "Для задачи регрессии в качестве оценки производительности используется средняя квадратичная ошибка (mean squared error) (MSE):\n",
    "\n",
    "$$\n",
    "MSE = \\frac{1}{m} \\sum_{i} ( y^{pred} - y)^2$$\n",
    "\n",
    "или можно записать через норму:\n",
    "\n",
    "$$\n",
    "MSE = \\frac{1}{m} || y^{pred} - y ||^2_2$$\n"
   ]
  },
  {
   "cell_type": "code",
   "execution_count": 35,
   "metadata": {},
   "outputs": [
    {
     "data": {
      "image/png": "[encoded data removed]",
      "text/plain": [
       "<matplotlib.figure.Figure at 0x7fccc93f6208>"
      ]
     },
     "metadata": {},
     "output_type": "display_data"
    }
   ],
   "source": [
    "%matplotlib inline\n",
    "import matplotlib.pyplot as plt\n",
    "\n",
    "x = np.array([0.1,0.2,0.3,0.35,0.4,0.45,0.5,0.53,0.6])\n",
    "y = np.array([0, 1, 1.5, 1, 1.3 ,2,2.3,1.4,2.2])\n",
    "\n",
    "plt.figure(figsize=(12, 8))\n",
    "plt.scatter(x, y,s=100)\n",
    "plt.show()"
   ]
  },
  {
   "cell_type": "code",
   "execution_count": 36,
   "metadata": {},
   "outputs": [],
   "source": [
    "# Проверки опущены для краткости примеров \n",
    "def mse_not_vectorized(y_pred, y):\n",
    "    value = 0\n",
    "    for i in range(len(y_pred)):\n",
    "        value += (y_pred[i]-y[i])**2\n",
    "    return value/len(y_pred)        \n",
    "\n",
    "def mse(y_pred, y):\n",
    "    return (y_pred-y).T.dot(y_pred-y)/len(y_pred)"
   ]
  },
  {
   "cell_type": "code",
   "execution_count": 37,
   "metadata": {},
   "outputs": [
    {
     "data": {
      "image/png": "[encoded data removed]",
      "text/plain": [
       "<matplotlib.figure.Figure at 0x7fccc658db70>"
      ]
     },
     "metadata": {},
     "output_type": "display_data"
    }
   ],
   "source": [
    "# y = w*x\n",
    "\n",
    "w = 0.5\n",
    "y_pred = w*x\n",
    "\n",
    "plt.figure(figsize=(12, 8))\n",
    "plt.scatter(x, y,s=100)\n",
    "plt.scatter(x, y_pred,c='r',s=100)\n",
    "plt.plot([0,1],[0*w,1*w], c=\"r\")\n",
    "\n",
    "plt.show()"
   ]
  },
  {
   "cell_type": "code",
   "execution_count": 38,
   "metadata": {},
   "outputs": [
    {
     "name": "stdout",
     "output_type": "stream",
     "text": [
      "1.86410833333\n",
      "1.86410833333\n"
     ]
    }
   ],
   "source": [
    "print(mse_not_vectorized(y_pred,y))\n",
    "print(mse(y_pred,y))"
   ]
  },
  {
   "cell_type": "code",
   "execution_count": 39,
   "metadata": {},
   "outputs": [
    {
     "name": "stdout",
     "output_type": "stream",
     "text": [
      "(1, 60)\n",
      "(9, 1)\n"
     ]
    },
    {
     "data": {
      "image/png": "[encoded data removed]",
      "text/plain": [
       "<matplotlib.figure.Figure at 0x7fccc660ba58>"
      ]
     },
     "metadata": {},
     "output_type": "display_data"
    }
   ],
   "source": [
    "w = np.arange(0,6,0.1)\n",
    "w = w.reshape((len(w),1))\n",
    "x = x.reshape((len(x),1))\n",
    "print(w.T.shape)\n",
    "print(x.shape)\n",
    "\n",
    "y_pred = w.dot(x.T)\n",
    "mse_x = [ mse(x,y) for x in y_pred ]\n",
    "\n",
    "plt.figure(figsize=(12, 8))\n",
    "plt.plot(w,mse_x, c=\"r\")\n",
    "\n",
    "plt.show()\n"
   ]
  },
  {
   "cell_type": "code",
   "execution_count": 40,
   "metadata": {},
   "outputs": [
    {
     "data": {
      "image/png": "[encoded data removed]",
      "text/plain": [
       "<matplotlib.figure.Figure at 0x7fccc66370f0>"
      ]
     },
     "metadata": {},
     "output_type": "display_data"
    }
   ],
   "source": [
    "w = 3.8\n",
    "\n",
    "y_pred = w*x\n",
    "\n",
    "plt.figure(figsize=(12, 8))\n",
    "plt.scatter(x, y,s=100)\n",
    "plt.scatter(x, y_pred,c='r',s=100)\n",
    "plt.plot([0,1],[0*w,1*w], c=\"r\")\n",
    "\n",
    "plt.show()"
   ]
  },
  {
   "cell_type": "markdown",
   "metadata": {},
   "source": [
    "## Пример с линейной регрессией (нормальное уравление) <a id=\"norm\"></a>"
   ]
  },
  {
   "cell_type": "code",
   "execution_count": 41,
   "metadata": {},
   "outputs": [
    {
     "name": "stdout",
     "output_type": "stream",
     "text": [
      "[10 20 30 40 50 60 70 80 90]\n",
      "[30 40]\n"
     ]
    }
   ],
   "source": [
    "import numpy as np\n",
    "\n",
    "a = np.array([10,20,30,40,50,60,70,80,90])\n",
    "print(a)\n",
    "print(a[[2,3]])"
   ]
  },
  {
   "cell_type": "code",
   "execution_count": 42,
   "metadata": {},
   "outputs": [
    {
     "name": "stdout",
     "output_type": "stream",
     "text": [
      "[10 None 30 40 None 60 None 80 90]\n",
      "[10 0 30 40 0 60 0 80 90]\n"
     ]
    }
   ],
   "source": [
    "import numpy as np\n",
    "\n",
    "a = np.array([10,None,30,40,None,60,None,80,90])\n",
    "print(a)\n",
    "a[a==None] = 0\n",
    "print(a)"
   ]
  },
  {
   "cell_type": "code",
   "execution_count": 43,
   "metadata": {},
   "outputs": [
    {
     "name": "stdout",
     "output_type": "stream",
     "text": [
      "[-1 -4 -5 -5 -6]\n"
     ]
    }
   ],
   "source": [
    "a = np.array([1,2,3,-1,-4,-5,3,-5,-6,2])\n",
    "#a[a<0]=0\n",
    "\n",
    "print(a[a<0])"
   ]
  },
  {
   "cell_type": "code",
   "execution_count": 44,
   "metadata": {},
   "outputs": [
    {
     "name": "stdout",
     "output_type": "stream",
     "text": [
      "[1 2 3 0 0 0 0 0 0 2]\n"
     ]
    }
   ],
   "source": [
    "a = np.array([1,2,3,-1,5000,-5,3000,-5,-6,2])\n",
    "a[np.logical_or(a<0, a>500)] = 0\n",
    "print(a)"
   ]
  },
  {
   "cell_type": "code",
   "execution_count": 45,
   "metadata": {},
   "outputs": [],
   "source": [
    "import numpy as np\n",
    "import time\n",
    "N = 10000000"
   ]
  },
  {
   "cell_type": "code",
   "execution_count": 46,
   "metadata": {},
   "outputs": [
    {
     "name": "stdout",
     "output_type": "stream",
     "text": [
      "(10000000,)\n",
      "(10000000,)\n"
     ]
    }
   ],
   "source": [
    "#a = np.arange(1,10)\n",
    "a = np.random.rand(N)\n",
    "b = np.random.rand(N)\n",
    "\n",
    "print(a.shape)\n",
    "print(b.shape)"
   ]
  },
  {
   "cell_type": "markdown",
   "metadata": {},
   "source": [
    "$$\n",
    "\\omega = (X^TX+\\alpha I)^{-1} X^T y\n",
    "$$\n",
    "\n",
    "http://eli.thegreenplace.net/2014/derivation-of-the-normal-equation-for-linear-regression"
   ]
  },
  {
   "cell_type": "markdown",
   "metadata": {},
   "source": []
  },
  {
   "cell_type": "markdown",
   "metadata": {},
   "source": [
    "http://www.machinelearning.ru/wiki/index.php?title=%D0%9B%D0%B8%D0%BD%D0%B5%D0%B9%D0%BD%D0%B0%D1%8F_%D1%80%D0%B5%D0%B3%D1%80%D0%B5%D1%81%D1%81%D0%B8%D1%8F_(%D0%BF%D1%80%D0%B8%D0%BC%D0%B5%D1%80)"
   ]
  },
  {
   "cell_type": "markdown",
   "metadata": {},
   "source": [
    "https://www.kaggle.com/andonians/random-linear-regression"
   ]
  },
  {
   "cell_type": "code",
   "execution_count": 47,
   "metadata": {},
   "outputs": [],
   "source": [
    "%matplotlib inline\n",
    "import matplotlib.pyplot as plt"
   ]
  },
  {
   "cell_type": "code",
   "execution_count": 48,
   "metadata": {},
   "outputs": [
    {
     "name": "stdout",
     "output_type": "stream",
     "text": [
      "(300, 2)\n",
      "float64\n"
     ]
    }
   ],
   "source": [
    "from numpy import genfromtxt\n",
    "my_data = genfromtxt('test.csv', delimiter=',', skip_header=True)\n",
    "print(my_data.shape)\n",
    "print(my_data.dtype)"
   ]
  },
  {
   "cell_type": "code",
   "execution_count": 49,
   "metadata": {},
   "outputs": [
    {
     "data": {
      "text/plain": [
       "(1, 2)"
      ]
     },
     "execution_count": 49,
     "metadata": {},
     "output_type": "execute_result"
    }
   ],
   "source": [
    "my_data[:1].shape"
   ]
  },
  {
   "cell_type": "markdown",
   "metadata": {},
   "source": [
    "$$\n",
    "\\omega = (X^TX)^{-1}X^Ty\n",
    "$$"
   ]
  },
  {
   "cell_type": "code",
   "execution_count": 50,
   "metadata": {},
   "outputs": [],
   "source": [
    "X = my_data[:,0]\n",
    "X=X.reshape((len(X),1))\n",
    "X=X.T\n",
    "y = my_data[:,1]"
   ]
  },
  {
   "cell_type": "code",
   "execution_count": 51,
   "metadata": {},
   "outputs": [
    {
     "name": "stdout",
     "output_type": "stream",
     "text": [
      "(1, 300)\n",
      "(300, 1)\n",
      "(300, 1)\n"
     ]
    }
   ],
   "source": [
    "from numpy.linalg import pinv\n",
    "\n",
    "X = my_data[:,0]\n",
    "X=X.reshape((len(X),1))\n",
    "X=X.T\n",
    "y = my_data[:,1]\n",
    "y=y.reshape((len(y),1))\n",
    "\n",
    "print(X.shape)\n",
    "print(y.shape)\n",
    "\n",
    "p = pinv(X.T.dot(X)).dot(X.T)\n",
    "print(p.shape)\n",
    "w=p.T.dot(y)\n",
    "\n",
    "#print(w,y.shape)\n",
    "#plt.figure(figsize=(16, 8))\n",
    "#plt.scatter(my_data[:,0], my_data[:,1])\n",
    "#plt.plot([0,100],[1,50], c=\"r\")\n",
    "#plt.show()\n",
    "\n",
    "#%matplotlib inline\n",
    "\n"
   ]
  },
  {
   "cell_type": "code",
   "execution_count": 52,
   "metadata": {},
   "outputs": [
    {
     "data": {
      "image/png": "[encoded data removed]",
      "text/plain": [
       "<matplotlib.figure.Figure at 0x7fccc6514748>"
      ]
     },
     "metadata": {},
     "output_type": "display_data"
    }
   ],
   "source": [
    "plt.figure(figsize=(16, 8))\n",
    "plt.scatter(my_data[:,0], my_data[:,1])\n",
    "plt.show()"
   ]
  },
  {
   "cell_type": "code",
   "execution_count": 53,
   "metadata": {},
   "outputs": [
    {
     "data": {
      "image/png": "[encoded data removed]",
      "text/plain": [
       "<matplotlib.figure.Figure at 0x7fccbcc42fd0>"
      ]
     },
     "metadata": {},
     "output_type": "display_data"
    }
   ],
   "source": [
    "plt.figure(figsize=(16, 8))\n",
    "plt.scatter(my_data[:,0], my_data[:,1])\n",
    "plt.plot([0,100],[0*w[0],100*w[0]], c=\"r\")\n",
    "plt.show()"
   ]
  }
 ],
 "metadata": {
  "kernelspec": {
   "display_name": "Python 3",
   "language": "python",
   "name": "python3"
  },
  "language_info": {
   "codemirror_mode": {
    "name": "ipython",
    "version": 3
   },
   "file_extension": ".py",
   "mimetype": "text/x-python",
   "name": "python",
   "nbconvert_exporter": "python",
   "pygments_lexer": "ipython3",
   "version": "3.5.3"
  }
 },
 "nbformat": 4,
 "nbformat_minor": 2
}
